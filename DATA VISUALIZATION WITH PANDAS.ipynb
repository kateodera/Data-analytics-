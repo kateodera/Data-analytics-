{
 "cells": [
  {
   "cell_type": "code",
   "execution_count": 2,
   "metadata": {
    "collapsed": true,
    "pycharm": {
     "is_executing": false
    }
   },
   "outputs": [
    {
     "data": {
      "text/plain": "       c1   c2\n0       1    2\n1  Ashish  Sid",
      "text/html": "<div>\n<style scoped>\n    .dataframe tbody tr th:only-of-type {\n        vertical-align: middle;\n    }\n\n    .dataframe tbody tr th {\n        vertical-align: top;\n    }\n\n    .dataframe thead th {\n        text-align: right;\n    }\n</style>\n<table border=\"1\" class=\"dataframe\">\n  <thead>\n    <tr style=\"text-align: right;\">\n      <th></th>\n      <th>c1</th>\n      <th>c2</th>\n    </tr>\n  </thead>\n  <tbody>\n    <tr>\n      <th>0</th>\n      <td>1</td>\n      <td>2</td>\n    </tr>\n    <tr>\n      <th>1</th>\n      <td>Ashish</td>\n      <td>Sid</td>\n    </tr>\n  </tbody>\n</table>\n</div>"
     },
     "metadata": {},
     "output_type": "execute_result",
     "execution_count": 2
    }
   ],
   "source": [
    "import pandas as pd\n",
    "# assigning two series to s1 and s2 \n",
    "s1 = pd.Series([1,2]) \n",
    "s2 = pd.Series([\"Ashish\", \"Sid\"])\n",
    "# framing series objects into data \n",
    "df = pd.DataFrame([s1,s2]) \n",
    "# show the data frame \n",
    "df\n",
    "# data framing in another way \n",
    "# taking index and column values \n",
    "dframe = pd.DataFrame([[1,2],[\"Ashish\", \"Sid\"]], \n",
    "        index=[\"r1\", \"r2\"], \n",
    "        columns=[\"c1\", \"c2\"]) \n",
    "dframe \n",
    "  \n",
    "# framing in another way  \n",
    "# dict-like container \n",
    "dframe = pd.DataFrame({ \n",
    "        \"c1\": [1, \"Ashish\"], \n",
    "        \"c2\": [2, \"Sid\"]}) \n",
    "dframe \n",
    "\n"
   ]
  }
 ],
 "metadata": {
  "kernelspec": {
   "display_name": "Python 3",
   "language": "python",
   "name": "python3"
  },
  "language_info": {
   "codemirror_mode": {
    "name": "ipython",
    "version": 2
   },
   "file_extension": ".py",
   "mimetype": "text/x-python",
   "name": "python",
   "nbconvert_exporter": "python",
   "pygments_lexer": "ipython2",
   "version": "2.7.6"
  },
  "pycharm": {
   "stem_cell": {
    "cell_type": "raw",
    "source": [],
    "metadata": {
     "collapsed": false
    }
   }
  }
 },
 "nbformat": 4,
 "nbformat_minor": 0
}