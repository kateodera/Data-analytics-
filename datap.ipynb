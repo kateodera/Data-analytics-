{
 "cells": [
  {
   "cell_type": "code",
   "execution_count": 7,
   "metadata": {
    "collapsed": true,
    "pycharm": {
     "is_executing": false
    }
   },
   "outputs": [
    {
     "name": "stdout",
     "text": [
      "3012\n",
      "1006942.0\n",
      "334.3100929614874\n",
      "334.3100929614874\n",
      "173.18720477113115\n",
      "49.95\n",
      "782.22\n",
      "283.315\n",
      "0    291.21\n",
      "dtype: float64\n",
      "count    3012.000000\n",
      "mean      334.310093\n",
      "std       173.187205\n",
      "min        49.950000\n",
      "25%       218.045000\n",
      "50%       283.315000\n",
      "75%       443.000000\n",
      "max       782.220000\n",
      "Name: Stock Price, dtype: float64\n",
      "3011\n",
      "11\n",
      "291.21    5\n",
      "288.47    3\n",
      "194.80    3\n",
      "Name: Stock Price, dtype: int64\n"
     ],
     "output_type": "stream"
    }
   ],
   "source": [
    "import pandas as pd \n",
    "s = pd.read_csv(\"stock.csv\", squeeze=True)\n",
    "print(s.count())\n",
    "\n",
    "print(s.sum())\n",
    "print(s.mean())\n",
    "print(s.sum()/s.count())\n",
    "print(s.std()) \n",
    "print(s.min())\n",
    "print(s.max())\n",
    "print(s.median())\n",
    "print(s.mode())\n",
    "#using describe function \n",
    "print(s.describe()) \n",
    "  \n",
    "#using count function \n",
    "print(s.idxmax()) \n",
    "  \n",
    "#using idxmin function \n",
    "print(s.idxmin()) \n",
    "  \n",
    "#count of elements having value 3 \n",
    "print(s.value_counts().head(3))"
   ]
  }
 ],
 "metadata": {
  "kernelspec": {
   "display_name": "Python 3",
   "language": "python",
   "name": "python3"
  },
  "language_info": {
   "codemirror_mode": {
    "name": "ipython",
    "version": 2
   },
   "file_extension": ".py",
   "mimetype": "text/x-python",
   "name": "python",
   "nbconvert_exporter": "python",
   "pygments_lexer": "ipython2",
   "version": "2.7.6"
  },
  "pycharm": {
   "stem_cell": {
    "cell_type": "raw",
    "source": [],
    "metadata": {
     "collapsed": false
    }
   }
  }
 },
 "nbformat": 4,
 "nbformat_minor": 0
}